{
 "cells": [
  {
   "cell_type": "markdown",
   "id": "1b1bcadd",
   "metadata": {},
   "source": [
    "# Faulty Calculator"
   ]
  },
  {
   "cell_type": "code",
   "execution_count": 1,
   "id": "3c918897",
   "metadata": {},
   "outputs": [],
   "source": [
    "# Designed a calculator which will correctly solve all the problems except the following ones:\n",
    "# 45 * 3 = 555 , 56+9 = 77, 56/6 =4"
   ]
  },
  {
   "cell_type": "code",
   "execution_count": 2,
   "id": "ace49513",
   "metadata": {},
   "outputs": [
    {
     "name": "stdout",
     "output_type": "stream",
     "text": [
      "Enter first number\n",
      "45\n",
      "Choose your operator\n",
      "for Addition (+)\n",
      "for Subtraction (-)\n",
      "for Multiplication (*)\n",
      "for Divison (/)\n",
      "*\n",
      "Enter second number\n",
      "3\n",
      "555\n"
     ]
    }
   ],
   "source": [
    "print(\"Enter first number\")\n",
    "num1 = int(input())\n",
    "print(\"Choose your operator\\n\"\n",
    "      \"for Addition (+)\\n\"\n",
    "      \"for Subtraction (-)\\n\"   \n",
    "      \"for Multiplication (*)\\n\"\n",
    "      \"for Divison (/)\")\n",
    "operator = input()\n",
    "print(\"Enter second number\")\n",
    "num2 = int(input())\n",
    "if num1==45 and operator==\"*\" and num2==3:\n",
    "    print(\"555\")\n",
    "elif num1==56 and operator==\"+\" and num2==9:\n",
    "    print(\"77\")\n",
    "elif num1==56 and operator==\"/\" and num2==6:\n",
    "    print(\"4\")\n",
    "elif  operator==\"+\":\n",
    "    print(num1+num2)\n",
    "elif operator==\"-\":\n",
    "    print(num1-num2)\n",
    "elif operator==\"/\":\n",
    "    print(num1/num2)\n",
    "elif  operator==\"*\":\n",
    "    print(num1*num2)"
   ]
  }
 ],
 "metadata": {
  "kernelspec": {
   "display_name": "Python 3 (ipykernel)",
   "language": "python",
   "name": "python3"
  },
  "language_info": {
   "codemirror_mode": {
    "name": "ipython",
    "version": 3
   },
   "file_extension": ".py",
   "mimetype": "text/x-python",
   "name": "python",
   "nbconvert_exporter": "python",
   "pygments_lexer": "ipython3",
   "version": "3.9.13"
  }
 },
 "nbformat": 4,
 "nbformat_minor": 5
}
